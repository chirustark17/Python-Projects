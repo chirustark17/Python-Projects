{
  "nbformat": 4,
  "nbformat_minor": 0,
  "metadata": {
    "colab": {
      "provenance": [],
      "authorship_tag": "ABX9TyNobv57jatxRkOkf4DUigP9",
      "include_colab_link": true
    },
    "kernelspec": {
      "name": "python3",
      "display_name": "Python 3"
    },
    "language_info": {
      "name": "python"
    }
  },
  "cells": [
    {
      "cell_type": "markdown",
      "metadata": {
        "id": "view-in-github",
        "colab_type": "text"
      },
      "source": [
        "<a href=\"https://colab.research.google.com/github/chirustark17/Python-Projects/blob/main/Umbrella_Bot_Umbrella_reminder_on_email.ipynb\" target=\"_parent\"><img src=\"https://colab.research.google.com/assets/colab-badge.svg\" alt=\"Open In Colab\"/></a>"
      ]
    },
    {
      "cell_type": "code",
      "execution_count": null,
      "metadata": {
        "colab": {
          "base_uri": "https://localhost:8080/"
        },
        "id": "OQBT55KeNv11",
        "outputId": "2140616a-affb-4653-e62a-3447419b58d6"
      },
      "outputs": [
        {
          "output_type": "stream",
          "name": "stdout",
          "text": [
            "Collecting schedule\n",
            "  Downloading schedule-1.2.2-py3-none-any.whl.metadata (3.8 kB)\n",
            "Requirement already satisfied: requests in /usr/local/lib/python3.12/dist-packages (2.32.4)\n",
            "Requirement already satisfied: python-dotenv in /usr/local/lib/python3.12/dist-packages (1.1.1)\n",
            "Requirement already satisfied: charset_normalizer<4,>=2 in /usr/local/lib/python3.12/dist-packages (from requests) (3.4.3)\n",
            "Requirement already satisfied: idna<4,>=2.5 in /usr/local/lib/python3.12/dist-packages (from requests) (3.10)\n",
            "Requirement already satisfied: urllib3<3,>=1.21.1 in /usr/local/lib/python3.12/dist-packages (from requests) (2.5.0)\n",
            "Requirement already satisfied: certifi>=2017.4.17 in /usr/local/lib/python3.12/dist-packages (from requests) (2025.8.3)\n",
            "Downloading schedule-1.2.2-py3-none-any.whl (12 kB)\n",
            "Installing collected packages: schedule\n",
            "Successfully installed schedule-1.2.2\n"
          ]
        }
      ],
      "source": [
        "pip install schedule requests python-dotenv\n"
      ]
    },
    {
      "cell_type": "code",
      "source": [
        "import schedule\n",
        "import smtplib\n",
        "import requests\n",
        "from datetime import datetime\n",
        "\n",
        "# I HAVE REMOVED these information for security purpose\n",
        "EMAIL_USER = \"my-email\"\n",
        "EMAIL_PASS = \"my_email_passkey/Password\"\n",
        "TO_EMAIL = \"XYZ@gmail.com\" # TO WHICH MAIL IT SHOULD BE SENT\n",
        "API_KEY = \"API_KEY\" #TO BE COLLECTED FROM OPENWEATHER API\n",
        "\n",
        "def umbrellaReminder():\n",
        "    city = \"Bengaluru\"\n",
        "    url = f\"http://api.openweathermap.org/data/2.5/forecast?q={city}&appid={API_KEY}&units=metric\"\n",
        "\n",
        "    response = requests.get(url)\n",
        "    data = response.json()\n",
        "\n",
        "    # Current weather\n",
        "    current = data[\"list\"][0]\n",
        "    temp = current[\"main\"][\"temp\"]\n",
        "    condition = current[\"weather\"][0][\"description\"].title()\n",
        "    wind_speed = current[\"wind\"][\"speed\"]\n",
        "\n",
        "    # Check next few hours for rain\n",
        "    rain_forecast = []\n",
        "    for forecast in data[\"list\"][:6]:  # Next 18 hours (3h interval each)\n",
        "        time = datetime.fromtimestamp(forecast[\"dt\"]).strftime(\"%I:%M %p\")\n",
        "        weather = forecast[\"weather\"][0][\"description\"].title()\n",
        "        chance_of_rain = forecast.get(\"pop\", 0) * 100\n",
        "        if \"rain\" in weather.lower() or chance_of_rain > 30:\n",
        "            rain_forecast.append(f\"{time}: {weather} ({chance_of_rain:.0f}% chance)\")\n",
        "\n",
        "    # Build email body\n",
        "    subject = \"🌦️ Bengaluru Umbrella Reminder\"\n",
        "    body = f\"\"\"Good Morning! ☀️\n",
        "\n",
        "Weather update for {city}:\n",
        "- Temperature: {temp}°C\n",
        "- Condition: {condition}\n",
        "- Wind Speed: {wind_speed} m/s\n",
        "\n",
        "Rain Forecast (next 18 hrs):\n",
        "{chr(10).join(rain_forecast) if rain_forecast else \"No significant rain expected.\"}\n",
        "\n",
        "Take an umbrella if needed! ☔\n",
        "    \"\"\"\n",
        "\n",
        "    msg = f\"Subject:{subject}\\n\\n{body}\\n\\nRegards,\\nWeather Bot\".encode(\"utf-8\")\n",
        "\n",
        "    # Send email\n",
        "    try:\n",
        "        smtp_object = smtplib.SMTP('smtp.gmail.com', 587)\n",
        "        smtp_object.starttls()\n",
        "        smtp_object.login(EMAIL_USER, EMAIL_PASS)\n",
        "        smtp_object.sendmail(EMAIL_USER, TO_EMAIL, msg)\n",
        "        smtp_object.quit()\n",
        "        print(\" Email Sent at\", datetime.now())\n",
        "    except Exception as e:\n",
        "        print(\" Failed to send email:\", e)\n",
        "\n",
        "# Run every 1 minute (for testing)\n",
        "schedule.every(1).minutes.do(umbrellaReminder)\n",
        "\n",
        "# If you want fixed time (01:08 AM), replace with:\n",
        "# schedule.every().day.at(\"01:08\").do(umbrellaReminder)\n",
        "\n",
        "print(\" Umbrella Reminder started. Waiting for schedule...\")\n",
        "\n",
        "while True:\n",
        "    schedule.run_pending()\n",
        "\n"
      ],
      "metadata": {
        "colab": {
          "base_uri": "https://localhost:8080/",
          "height": 1000
        },
        "id": "P56lgcZONyOV",
        "outputId": "c8477ef7-3d4f-46b0-ff37-16195f69c704"
      },
      "execution_count": 6,
      "outputs": [
        {
          "output_type": "stream",
          "name": "stdout",
          "text": [
            " Umbrella Reminder started. Waiting for schedule...\n",
            " Email Sent at 2025-08-28 20:00:01.479728\n",
            " Email Sent at 2025-08-28 20:00:42.070933\n",
            " Email Sent at 2025-08-28 20:00:42.783935\n",
            " Email Sent at 2025-08-28 20:01:01.527108\n",
            " Email Sent at 2025-08-28 20:01:02.243670\n",
            " Email Sent at 2025-08-28 20:01:42.847702\n",
            " Email Sent at 2025-08-28 20:01:43.466861\n",
            " Email Sent at 2025-08-28 20:02:02.210311\n",
            " Email Sent at 2025-08-28 20:02:03.097072\n",
            " Email Sent at 2025-08-28 20:02:43.742687\n",
            " Email Sent at 2025-08-28 20:02:44.418475\n",
            " Email Sent at 2025-08-28 20:03:02.822646\n",
            " Email Sent at 2025-08-28 20:03:04.202489\n",
            " Email Sent at 2025-08-28 20:03:44.425187\n",
            " Email Sent at 2025-08-28 20:03:45.347637\n",
            " Email Sent at 2025-08-28 20:04:03.628355\n",
            " Email Sent at 2025-08-28 20:04:04.946159\n",
            " Email Sent at 2025-08-28 20:04:46.091178\n",
            " Email Sent at 2025-08-28 20:04:46.993608\n",
            " Email Sent at 2025-08-28 20:05:04.875075\n",
            " Email Sent at 2025-08-28 20:05:05.618766\n",
            " Email Sent at 2025-08-28 20:05:46.963201\n",
            " Email Sent at 2025-08-28 20:05:47.633329\n",
            " Email Sent at 2025-08-28 20:06:06.666496\n",
            " Email Sent at 2025-08-28 20:06:07.468460\n",
            " Email Sent at 2025-08-28 20:06:47.931571\n",
            " Email Sent at 2025-08-28 20:06:49.370982\n",
            " Email Sent at 2025-08-28 20:07:07.622014\n",
            " Email Sent at 2025-08-28 20:07:08.573740\n",
            " Email Sent at 2025-08-28 20:07:48.737564\n",
            " Email Sent at 2025-08-28 20:07:50.054781\n",
            " Email Sent at 2025-08-28 20:08:08.309782\n",
            " Email Sent at 2025-08-28 20:08:09.705395\n",
            " Email Sent at 2025-08-28 20:08:49.474594\n",
            " Email Sent at 2025-08-28 20:08:50.762981\n",
            " Email Sent at 2025-08-28 20:09:08.962140\n",
            " Email Sent at 2025-08-28 20:09:10.637831\n",
            " Email Sent at 2025-08-28 20:09:50.095846\n",
            " Email Sent at 2025-08-28 20:09:51.324729\n",
            " Email Sent at 2025-08-28 20:10:10.009615\n",
            " Email Sent at 2025-08-28 20:10:11.257873\n",
            " Email Sent at 2025-08-28 20:10:51.081104\n",
            " Email Sent at 2025-08-28 20:10:52.045002\n",
            " Email Sent at 2025-08-28 20:11:11.061959\n",
            " Email Sent at 2025-08-28 20:11:11.920286\n"
          ]
        },
        {
          "output_type": "error",
          "ename": "KeyboardInterrupt",
          "evalue": "",
          "traceback": [
            "\u001b[0;31m---------------------------------------------------------------------------\u001b[0m",
            "\u001b[0;31mKeyboardInterrupt\u001b[0m                         Traceback (most recent call last)",
            "\u001b[0;32m/tmp/ipython-input-1004307763.py\u001b[0m in \u001b[0;36m<cell line: 0>\u001b[0;34m()\u001b[0m\n\u001b[1;32m     68\u001b[0m \u001b[0;34m\u001b[0m\u001b[0m\n\u001b[1;32m     69\u001b[0m \u001b[0;32mwhile\u001b[0m \u001b[0;32mTrue\u001b[0m\u001b[0;34m:\u001b[0m\u001b[0;34m\u001b[0m\u001b[0;34m\u001b[0m\u001b[0m\n\u001b[0;32m---> 70\u001b[0;31m     \u001b[0mschedule\u001b[0m\u001b[0;34m.\u001b[0m\u001b[0mrun_pending\u001b[0m\u001b[0;34m(\u001b[0m\u001b[0;34m)\u001b[0m\u001b[0;34m\u001b[0m\u001b[0;34m\u001b[0m\u001b[0m\n\u001b[0m\u001b[1;32m     71\u001b[0m \u001b[0;34m\u001b[0m\u001b[0m\n",
            "\u001b[0;32m/usr/local/lib/python3.12/dist-packages/schedule/__init__.py\u001b[0m in \u001b[0;36mrun_pending\u001b[0;34m()\u001b[0m\n\u001b[1;32m    852\u001b[0m     \u001b[0;34m:\u001b[0m\u001b[0mdata\u001b[0m\u001b[0;34m:\u001b[0m\u001b[0;31m`\u001b[0m\u001b[0mdefault\u001b[0m \u001b[0mscheduler\u001b[0m \u001b[0minstance\u001b[0m \u001b[0;34m<\u001b[0m\u001b[0mdefault_scheduler\u001b[0m\u001b[0;34m>\u001b[0m\u001b[0;31m`\u001b[0m\u001b[0;34m.\u001b[0m\u001b[0;34m\u001b[0m\u001b[0;34m\u001b[0m\u001b[0m\n\u001b[1;32m    853\u001b[0m     \"\"\"\n\u001b[0;32m--> 854\u001b[0;31m     \u001b[0mdefault_scheduler\u001b[0m\u001b[0;34m.\u001b[0m\u001b[0mrun_pending\u001b[0m\u001b[0;34m(\u001b[0m\u001b[0;34m)\u001b[0m\u001b[0;34m\u001b[0m\u001b[0;34m\u001b[0m\u001b[0m\n\u001b[0m\u001b[1;32m    855\u001b[0m \u001b[0;34m\u001b[0m\u001b[0m\n\u001b[1;32m    856\u001b[0m \u001b[0;34m\u001b[0m\u001b[0m\n",
            "\u001b[0;32m/usr/local/lib/python3.12/dist-packages/schedule/__init__.py\u001b[0m in \u001b[0;36mrun_pending\u001b[0;34m(self)\u001b[0m\n\u001b[1;32m     98\u001b[0m         \"\"\"\n\u001b[1;32m     99\u001b[0m         \u001b[0mrunnable_jobs\u001b[0m \u001b[0;34m=\u001b[0m \u001b[0;34m(\u001b[0m\u001b[0mjob\u001b[0m \u001b[0;32mfor\u001b[0m \u001b[0mjob\u001b[0m \u001b[0;32min\u001b[0m \u001b[0mself\u001b[0m\u001b[0;34m.\u001b[0m\u001b[0mjobs\u001b[0m \u001b[0;32mif\u001b[0m \u001b[0mjob\u001b[0m\u001b[0;34m.\u001b[0m\u001b[0mshould_run\u001b[0m\u001b[0;34m)\u001b[0m\u001b[0;34m\u001b[0m\u001b[0;34m\u001b[0m\u001b[0m\n\u001b[0;32m--> 100\u001b[0;31m         \u001b[0;32mfor\u001b[0m \u001b[0mjob\u001b[0m \u001b[0;32min\u001b[0m \u001b[0msorted\u001b[0m\u001b[0;34m(\u001b[0m\u001b[0mrunnable_jobs\u001b[0m\u001b[0;34m)\u001b[0m\u001b[0;34m:\u001b[0m\u001b[0;34m\u001b[0m\u001b[0;34m\u001b[0m\u001b[0m\n\u001b[0m\u001b[1;32m    101\u001b[0m             \u001b[0mself\u001b[0m\u001b[0;34m.\u001b[0m\u001b[0m_run_job\u001b[0m\u001b[0;34m(\u001b[0m\u001b[0mjob\u001b[0m\u001b[0;34m)\u001b[0m\u001b[0;34m\u001b[0m\u001b[0;34m\u001b[0m\u001b[0m\n\u001b[1;32m    102\u001b[0m \u001b[0;34m\u001b[0m\u001b[0m\n",
            "\u001b[0;32m/usr/local/lib/python3.12/dist-packages/schedule/__init__.py\u001b[0m in \u001b[0;36m<genexpr>\u001b[0;34m(.0)\u001b[0m\n\u001b[1;32m     97\u001b[0m         \u001b[0mbetween\u001b[0m \u001b[0mbut\u001b[0m \u001b[0monly\u001b[0m \u001b[0monce\u001b[0m\u001b[0;34m.\u001b[0m\u001b[0;34m\u001b[0m\u001b[0;34m\u001b[0m\u001b[0m\n\u001b[1;32m     98\u001b[0m         \"\"\"\n\u001b[0;32m---> 99\u001b[0;31m         \u001b[0mrunnable_jobs\u001b[0m \u001b[0;34m=\u001b[0m \u001b[0;34m(\u001b[0m\u001b[0mjob\u001b[0m \u001b[0;32mfor\u001b[0m \u001b[0mjob\u001b[0m \u001b[0;32min\u001b[0m \u001b[0mself\u001b[0m\u001b[0;34m.\u001b[0m\u001b[0mjobs\u001b[0m \u001b[0;32mif\u001b[0m \u001b[0mjob\u001b[0m\u001b[0;34m.\u001b[0m\u001b[0mshould_run\u001b[0m\u001b[0;34m)\u001b[0m\u001b[0;34m\u001b[0m\u001b[0;34m\u001b[0m\u001b[0m\n\u001b[0m\u001b[1;32m    100\u001b[0m         \u001b[0;32mfor\u001b[0m \u001b[0mjob\u001b[0m \u001b[0;32min\u001b[0m \u001b[0msorted\u001b[0m\u001b[0;34m(\u001b[0m\u001b[0mrunnable_jobs\u001b[0m\u001b[0;34m)\u001b[0m\u001b[0;34m:\u001b[0m\u001b[0;34m\u001b[0m\u001b[0;34m\u001b[0m\u001b[0m\n\u001b[1;32m    101\u001b[0m             \u001b[0mself\u001b[0m\u001b[0;34m.\u001b[0m\u001b[0m_run_job\u001b[0m\u001b[0;34m(\u001b[0m\u001b[0mjob\u001b[0m\u001b[0;34m)\u001b[0m\u001b[0;34m\u001b[0m\u001b[0;34m\u001b[0m\u001b[0m\n",
            "\u001b[0;32m/usr/local/lib/python3.12/dist-packages/schedule/__init__.py\u001b[0m in \u001b[0;36mshould_run\u001b[0;34m(self)\u001b[0m\n\u001b[1;32m    670\u001b[0m         \"\"\"\n\u001b[1;32m    671\u001b[0m         \u001b[0;32massert\u001b[0m \u001b[0mself\u001b[0m\u001b[0;34m.\u001b[0m\u001b[0mnext_run\u001b[0m \u001b[0;32mis\u001b[0m \u001b[0;32mnot\u001b[0m \u001b[0;32mNone\u001b[0m\u001b[0;34m,\u001b[0m \u001b[0;34m\"must run _schedule_next_run before\"\u001b[0m\u001b[0;34m\u001b[0m\u001b[0;34m\u001b[0m\u001b[0m\n\u001b[0;32m--> 672\u001b[0;31m         \u001b[0;32mreturn\u001b[0m \u001b[0mdatetime\u001b[0m\u001b[0;34m.\u001b[0m\u001b[0mdatetime\u001b[0m\u001b[0;34m.\u001b[0m\u001b[0mnow\u001b[0m\u001b[0;34m(\u001b[0m\u001b[0;34m)\u001b[0m \u001b[0;34m>=\u001b[0m \u001b[0mself\u001b[0m\u001b[0;34m.\u001b[0m\u001b[0mnext_run\u001b[0m\u001b[0;34m\u001b[0m\u001b[0;34m\u001b[0m\u001b[0m\n\u001b[0m\u001b[1;32m    673\u001b[0m \u001b[0;34m\u001b[0m\u001b[0m\n\u001b[1;32m    674\u001b[0m     \u001b[0;32mdef\u001b[0m \u001b[0mrun\u001b[0m\u001b[0;34m(\u001b[0m\u001b[0mself\u001b[0m\u001b[0;34m)\u001b[0m\u001b[0;34m:\u001b[0m\u001b[0;34m\u001b[0m\u001b[0;34m\u001b[0m\u001b[0m\n",
            "\u001b[0;31mKeyboardInterrupt\u001b[0m: "
          ]
        }
      ]
    }
  ]
}